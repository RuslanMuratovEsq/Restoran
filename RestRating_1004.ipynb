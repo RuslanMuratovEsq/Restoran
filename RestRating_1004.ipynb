{
 "cells": [
  {
   "cell_type": "code",
   "execution_count": 70,
   "metadata": {},
   "outputs": [],
   "source": [
    "import pandas as pd\n",
    "import numpy as np\n",
    "df = pd.read_csv('C:/Users/Ruslan/Documents/ИТ/CSVf/main_task.csv')\n",
    "\n",
    "# Начинаем преобразования нескольких имеющихся столбцов, чтобы получить дополнительные полезные числовые признаки\n",
    "# 1)Меняем Restaurant_ID, оставляя лишь номер в числовом формате\n",
    "\n",
    "IDR = []\n",
    "for i in range(0,len(df['Restaurant_id'])):\n",
    "    IDR.append(int(df['Restaurant_id'][i][3:]))   \n",
    "df['Restaurant_id'] = IDR\n",
    "\n",
    "# 2)В Price Range заменим на значки $ на 100, 1000, 10000 \n",
    "# В случае отсутствия значения, проставляем 626(это приблизительный вариант средней. \n",
    "# Иначе проставил бы 500, как наиболее распространённое значение)\n",
    "PR = []\n",
    "for i in range(0,len(df['Price Range'])):\n",
    "    if df['Price Range'][i] == '$':\n",
    "        PR.append(5)\n",
    "    elif df['Price Range'][i] == '$$ - $$$':\n",
    "        PR.append(500)\n",
    "    elif df['Price Range'][i] == '$$$$':\n",
    "        PR.append(5000)\n",
    "    else:\n",
    "        PR.append(626)\n",
    "df['Price Range'] = PR\n",
    "\n",
    "# 3) Из Cousine Style извлекаем  количество кухонь и полезные текстовые признаки \n",
    "\n",
    "SS = []\n",
    "for i in range(0,len(df['Cuisine Style'])):\n",
    "    m  = df['Cuisine Style'][i]\n",
    "    if type(m) == str:\n",
    "        m = m.replace(\"[\", \"\").replace(\"]\", \"\").replace(\"'\", \"\").replace(\" \", \"\").split(',')\n",
    "        SS.append(m)\n",
    "    else:\n",
    "        SS.append('Neutral')\n",
    "\n",
    "# Убираем  пробелы в начале названий кухонь, если таковые имеются.Легче потом будет заменить конкретные названия с уместными пробелами, благо их немного\n",
    "\n",
    "df['Cuisine Style'] = SS\n",
    "\n",
    "SSL = []\n",
    "for i in range(0,len(SS)):\n",
    "    SSL.append(len(SS[i]))\n",
    "df['QuaCu'] = SSL\n",
    "\n",
    "# На всякий случай формируем словарь названия кухонь и их количества во всех ресторанах \n",
    "CuDict = {}\n",
    "for cs in range(0,len(SS)):\n",
    "    if SS[cs] == 'Neutral':\n",
    "        if SS[cs] in CuDict.keys():\n",
    "            CuDict[SS[cs]] = CuDict[SS[cs]] + 1\n",
    "        else:\n",
    "            CuDict[SS[cs]] = 1\n",
    "    else:\n",
    "        for i in range(0,len(SS[cs])):\n",
    "            if SS[cs][i] in CuDict.keys():\n",
    "                CuDict[SS[cs][i]] = CuDict[SS[cs][i]] + 1\n",
    "            else:\n",
    "                CuDict[SS[cs][i]] = 1\n",
    "# В дальнейшем предполагалось использовать его для некой величины зависимой от частоты кухонь, но первичный анализ показал, что это не улучшает MAE"
   ]
  },
  {
   "cell_type": "code",
   "execution_count": 1,
   "metadata": {},
   "outputs": [],
   "source": [
    "# Добавляем дополнительные столбцы"
   ]
  },
  {
   "cell_type": "code",
   "execution_count": 71,
   "metadata": {},
   "outputs": [],
   "source": [
    "#Добавим численность населения по имеющимся в базе городам. Данные в млн.человек. Источник:интернет, преимущественно Wikipedia.\n",
    "\n",
    "df['City'].value_counts() # Нужно было чтобы получить список городов.\n",
    "Cty = ['London','Paris','Madrid','Barcelona','Berlin','Milan','Rome','Prague','Lisbon','Vienna','Amsterdam','Brussels','Hamburg','Munich'\n",
    ",'Lyon','Stockholm','Budapest','Warsaw','Dublin','Copenhagen','Athens','Edinburgh','Zurich','Oporto','Geneva','Krakow','Oslo','Helsinki','Bratislava','Luxembourg','Ljubljana'\n",
    "]\n",
    "Popul = {}\n",
    "\n",
    "Popul['London'] = 8.4\n",
    "Popul['Paris'] = 2.2\n",
    "Popul['Madrid'] = 3.3\n",
    "Popul['Barcelona'] = 1.6\n",
    "Popul['Berlin'] = 3.6\n",
    "Popul['Milan'] = 1.4\n",
    "Popul['Rome'] = 2.9\n",
    "Popul['Prague'] = 1.3\n",
    "Popul['Lisbon'] = 0.5\n",
    "Popul['Vienna'] = 1.9\n",
    "Popul['Amsterdam'] = 0.8\n",
    "Popul['Brussels'] = 0.2\n",
    "Popul['Hamburg'] = 1.8\n",
    "Popul['Munich'] = 1.5\n",
    "Popul['Lyon'] = 0.5\n",
    "Popul['Stockholm'] = 1.0\n",
    "Popul['Budapest'] = 1.8\n",
    "Popul['Warsaw'] = 1.7\n",
    "Popul['Dublin'] = 1.4\n",
    "Popul['Copenhagen'] = 0.6\n",
    "Popul['Athens'] = 0.7\n",
    "Popul['Edinburgh'] = 0.5\n",
    "Popul['Zurich'] = 0.4\n",
    "Popul['Oporto'] = 0.2\n",
    "Popul['Geneva'] = 0.5\n",
    "Popul['Krakow'] = 0.8\n",
    "Popul['Oslo'] = 0.7\n",
    "Popul['Helsinki'] = 0.6\n",
    "Popul['Bratislava'] = 0.4\n",
    "Popul['Luxembourg'] = 0.6\n",
    "Popul['Ljubljana'] = 0.3\n",
    "\n",
    "CitPop= []\n",
    "for i in range(0,len(df['City'])):\n",
    "    CitPop.append(Popul[df['City'][i]])\n",
    "CitPop\n",
    "df['CitPop'] = CitPop"
   ]
  },
  {
   "cell_type": "code",
   "execution_count": 72,
   "metadata": {},
   "outputs": [],
   "source": [
    "# Добавляем показатель отношения числа отзывов по ресторану к численности населения (в млн.человек)\n",
    "df['Rev/Pop'] = df['Number of Reviews']/df['CitPop']"
   ]
  },
  {
   "cell_type": "code",
   "execution_count": 73,
   "metadata": {},
   "outputs": [
    {
     "name": "stdout",
     "output_type": "stream",
     "text": [
      "0.6586795123977813 -0.033775458942921215\n"
     ]
    }
   ],
   "source": [
    "# Добавляем показатель отношения числа отзывов по городу нахождения ресторана\n",
    "DDF = df.groupby('City').sum()\n",
    "NR = DDF['Number of Reviews']\n",
    "CitRevNum = []\n",
    "for i in range(0,len(df['City'])):\n",
    "    CitRevNum.append(NR[df['City'][i]])\n",
    "df['CitRevNum'] = CitRevNum\n",
    "\n",
    "# Просматриваем корреляцию с рэнкингом и рейтингом \n",
    "import numpy as np\n",
    "kr1 = np.corrcoef(df['CitRevNum'], df['Ranking'])\n",
    "kr2 = np.corrcoef(df['CitRevNum'], df['Rating'])\n",
    "# kr3 = np.corrcoef(df['Rev/Pop'], df['Ranking'])\n",
    "\n",
    "print(kr1[0,1],kr2[0,1])"
   ]
  },
  {
   "cell_type": "code",
   "execution_count": 74,
   "metadata": {},
   "outputs": [],
   "source": [
    "# Добавляем количество ресторанов в городе\n",
    "QID = [1 for x in range(len(df['City']))]\n",
    "df['QID'] = QID\n",
    "DDF = df.groupby('City').sum()\n",
    "QR = DDF['QID']\n",
    "CRQ = []\n",
    "for i in range(0,len(df['City'])):\n",
    "    CRQ.append(QR[df['City'][i]])\n",
    "df['CRQ'] = CRQ\n",
    "mr1 = np.corrcoef(df['CRQ'], df['Ranking']) # 0.7091149958375524\n",
    "mr2 = np.corrcoef(df['CRQ'], df['Rating']) # -0.061376216928803094\n",
    "# print(mr1[0,1],mr2[0,1])\n",
    "# Добавим отношение отзывов к количеству ресторанов\n",
    "df['RevpRest'] = df['Number of Reviews']/df['CRQ']\n"
   ]
  },
  {
   "cell_type": "code",
   "execution_count": 75,
   "metadata": {},
   "outputs": [],
   "source": [
    "import re\n",
    "\n",
    "# Используем регулярные выражения, чтобы \"вытащить\" даты из 'Reviews'\n",
    "pattern = re.compile('[0-9][0-9]/[0-9][0-9]/[0-9][0-9][0-9][0-9]')\n",
    "DatDict = []\n",
    "DatNorm = []\n",
    "qZero = 0\n",
    "qUno = 0\n",
    "m = []\n",
    "\n",
    "def dp(Uno, Dos):\n",
    "    import datetime\n",
    "    FDate = datetime.date(int(Uno[-4:]),int(Uno[:2]),int(Uno[3:5]))\n",
    "    SDate = datetime.date(int(Dos[-4:]),int(Dos[:2]),int(Dos[3:5]))\n",
    "    TDate = abs((SDate - FDate).days)\n",
    "    return TDate\n",
    "\n",
    "for i in range(0,len(df['Reviews'])):\n",
    "    m = pattern.findall(df['Reviews'][i])\n",
    "    if len(m) == 0:\n",
    "        qZero += 1\n",
    "        DatDict.append(0) \n",
    "    elif len(m) == 1:\n",
    "        qUno += 1\n",
    "        DatDict.append(141.7)\n",
    "    else:\n",
    "        DatDict.append(dp(m[0], m[1]))\n",
    "        DatNorm.append(dp(m[0], m[1]))\n",
    "\n",
    "df['DifDat'] = DatDict"
   ]
  },
  {
   "cell_type": "code",
   "execution_count": 114,
   "metadata": {},
   "outputs": [],
   "source": [
    "# Запускаем механизм обучения и считаем новый MAE"
   ]
  },
  {
   "cell_type": "code",
   "execution_count": 83,
   "metadata": {},
   "outputs": [],
   "source": [
    "# Разбиваем датафрейм на части, необходимые для обучения и тестирования модели\n",
    "# Х - данные с информацией о ресторанах, у - целевая переменная (рейтинги ресторанов)\n",
    "X = df.drop(['City', 'Cuisine Style', 'Reviews', 'URL_TA', 'ID_TA', 'Rating'], axis = 1)\n",
    "y = df['Rating']\n",
    "\n",
    "# Уточняем X: убираем нечисловые данные \n",
    "X = df.drop(['City', 'Cuisine Style', 'Reviews', 'URL_TA', 'ID_TA','Rating','QID', 'Number of Reviews'], axis = 1)\n",
    "# Заполняет пропуски нулями\n",
    "X=X.fillna(0)"
   ]
  },
  {
   "cell_type": "code",
   "execution_count": 88,
   "metadata": {},
   "outputs": [],
   "source": [
    "# Загружаем специальный инструмент для разбивки:\n",
    "from sklearn.model_selection import train_test_split"
   ]
  },
  {
   "cell_type": "code",
   "execution_count": 89,
   "metadata": {},
   "outputs": [],
   "source": [
    "# Наборы данных с меткой \"train\" будут использоваться для обучения модели, \"test\" - для тестирования.\n",
    "# Для тестирования мы будем использовать 25% от исходного датасета.\n",
    "X_train, X_test, y_train, y_test = train_test_split(X, y, test_size=0.25)"
   ]
  },
  {
   "cell_type": "code",
   "execution_count": 90,
   "metadata": {},
   "outputs": [],
   "source": [
    "# Импортируем необходимые библиотеки:\n",
    "from sklearn.ensemble import RandomForestRegressor # инструмент для создания и обучения модели\n",
    "from sklearn import metrics # инструменты для оценки точности модели"
   ]
  },
  {
   "cell_type": "code",
   "execution_count": 91,
   "metadata": {},
   "outputs": [],
   "source": [
    "# Создаём модель\n",
    "import numpy as np\n",
    "regr = RandomForestRegressor(n_estimators=100)\n",
    "# X_train\n",
    "# Обучаем модель на тестовом наборе данных\n",
    "regr.fit(X_train, y_train)\n",
    "# Используем обученную модель для предсказания рейтинга ресторанов в тестовой выборке.\n",
    "# Предсказанные значения записываем в переменную y_pred\n",
    "y_pred = regr.predict(X_test)"
   ]
  },
  {
   "cell_type": "code",
   "execution_count": 92,
   "metadata": {},
   "outputs": [
    {
     "name": "stdout",
     "output_type": "stream",
     "text": [
      "MAE: 0.20851050000000002\n"
     ]
    }
   ],
   "source": [
    "# Сравниваем предсказанные значения (y_pred) с реальными (y_test), и смотрим насколько они в среднем отличаются\n",
    "# Метрика называется Mean Absolute Error (MAE) и показывает среднее отклонение предсказанных значений от фактических.\n",
    "print('MAE:', metrics.mean_absolute_error(y_test, y_pred))"
   ]
  }
 ],
 "metadata": {
  "celltoolbar": "Raw Cell Format",
  "kernelspec": {
   "display_name": "Python 3",
   "language": "python",
   "name": "python3"
  },
  "language_info": {
   "codemirror_mode": {
    "name": "ipython",
    "version": 3
   },
   "file_extension": ".py",
   "mimetype": "text/x-python",
   "name": "python",
   "nbconvert_exporter": "python",
   "pygments_lexer": "ipython3",
   "version": "3.7.4"
  }
 },
 "nbformat": 4,
 "nbformat_minor": 2
}
